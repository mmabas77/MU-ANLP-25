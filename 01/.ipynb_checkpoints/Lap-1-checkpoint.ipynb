{
 "cells": [
  {
   "cell_type": "code",
   "id": "initial_id",
   "metadata": {
    "collapsed": true,
    "ExecuteTime": {
     "end_time": "2025-02-15T20:40:41.636227Z",
     "start_time": "2025-02-15T20:40:41.618844Z"
    }
   },
   "source": "\"اذا عرفت نفسك فلن يضرك ما قيل فيك\"",
   "outputs": [
    {
     "data": {
      "text/plain": [
       "'اذا عرفت نفسك فلن يضرك ما قيل فيك'"
      ]
     },
     "execution_count": 1,
     "metadata": {},
     "output_type": "execute_result"
    }
   ],
   "execution_count": 1
  },
  {
   "metadata": {
    "ExecuteTime": {
     "end_time": "2025-02-15T20:46:05.839533Z",
     "start_time": "2025-02-15T20:46:05.832327Z"
    }
   },
   "cell_type": "code",
   "source": "u\"اذا عرفت نفسك فلن يضرك ما قيل فيك\".encode('utf-8').decode('utf-8')",
   "id": "30a44845b98a2a30",
   "outputs": [
    {
     "data": {
      "text/plain": [
       "'اذا عرفت نفسك فلن يضرك ما قيل فيك'"
      ]
     },
     "execution_count": 4,
     "metadata": {},
     "output_type": "execute_result"
    }
   ],
   "execution_count": 4
  }
 ],
 "metadata": {
  "kernelspec": {
   "display_name": "Python 3",
   "language": "python",
   "name": "python3"
  },
  "language_info": {
   "codemirror_mode": {
    "name": "ipython",
    "version": 2
   },
   "file_extension": ".py",
   "mimetype": "text/x-python",
   "name": "python",
   "nbconvert_exporter": "python",
   "pygments_lexer": "ipython2",
   "version": "2.7.6"
  }
 },
 "nbformat": 4,
 "nbformat_minor": 5
}
