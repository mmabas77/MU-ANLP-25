{
 "cells": [
  {
   "cell_type": "markdown",
   "metadata": {},
   "source": [
    "# Text Normalization\n",
    "\n",
    "We use lots of variations for same words for examples user might express love in different ways `[lovely, luv, loveee, ...]` all these are the essentially the same to a machine learning model that tries to find out if a review is positive or negative.\n",
    "\n",
    "So in this notebook we will discuss some methods to reduce text variations."
   ]
  },
  {
   "metadata": {},
   "cell_type": "markdown",
   "source": [
    "# Lemmatization vs Stemming\n",
    "\n",
    "The key concept here is that stemming sometime destroy the word unlike lemmatization where we keep the meaning.\n"
   ]
  },
  {
   "cell_type": "markdown",
   "metadata": {},
   "source": [
    "# Stemming\n",
    "\n",
    "Stemming reduce the text by a set of pre-defined rules like removing `ing` from verbs"
   ]
  },
  {
   "cell_type": "code",
   "metadata": {
    "ExecuteTime": {
     "end_time": "2025-02-23T00:30:53.946479Z",
     "start_time": "2025-02-23T00:30:52.034155Z"
    }
   },
   "source": [
    "from nltk.stem.porter import PorterStemmer\n",
    "\n",
    "stemmer = PorterStemmer()\n",
    "\n",
    "plurals = ['caresses', 'flies', 'dies', 'mules', 'denied',\n",
    "           'died', 'agreed', 'owned', 'humbled', 'sized',\n",
    "           'meeting', 'stating', 'siezing', 'itemization',\n",
    "           'sensational', 'traditional', 'reference', 'colonizer',\n",
    "           'plotted']\n",
    "\n",
    "singles = [stemmer.stem(plural) for plural in plurals]\n",
    "print(singles)"
   ],
   "outputs": [
    {
     "name": "stdout",
     "output_type": "stream",
     "text": [
      "['caress', 'fli', 'die', 'mule', 'deni', 'die', 'agre', 'own', 'humbl', 'size', 'meet', 'state', 'siez', 'item', 'sensat', 'tradit', 'refer', 'colon', 'plot']\n"
     ]
    }
   ],
   "execution_count": 1
  },
  {
   "cell_type": "markdown",
   "metadata": {},
   "source": [
    "# Lemmatization\n",
    "\n",
    "Lemmatizer reduce the word by looking it up in the `WordNet` where it tries to find the root of the word for example `rocks` -> `rock`"
   ]
  },
  {
   "cell_type": "code",
   "metadata": {
    "ExecuteTime": {
     "end_time": "2025-02-23T00:30:57.240142Z",
     "start_time": "2025-02-23T00:30:53.985423Z"
    }
   },
   "source": [
    "# import these modules\n",
    "import nltk\n",
    "from nltk.stem import WordNetLemmatizer\n",
    "\n",
    "nltk.download('wordnet')\n",
    "lemmatizer = WordNetLemmatizer()\n",
    "\n",
    "# (plural to singular form)\n",
    "print(\"rocks    :\", lemmatizer.lemmatize(\"rocks\"))\n",
    "\n",
    "# a denotes adje (irregular plural form)\n",
    "print(\"corpora  :\", lemmatizer.lemmatize(\"corpora\"))\n",
    "# active in \"pos\"\n",
    "print(\"-----better-----\")\n",
    "print('Noun : ',lemmatizer.lemmatize(\"better\"))         # Output: \"better\" (default noun assumption)\n",
    "print('Adj  : ',lemmatizer.lemmatize(\"better\", pos=\"a\"))  # Output: \"good\" (adjective form)"
   ],
   "outputs": [
    {
     "name": "stderr",
     "output_type": "stream",
     "text": [
      "[nltk_data] Downloading package wordnet to\n",
      "[nltk_data]     C:\\Users\\mmaba\\AppData\\Roaming\\nltk_data...\n",
      "[nltk_data]   Package wordnet is already up-to-date!\n"
     ]
    },
    {
     "name": "stdout",
     "output_type": "stream",
     "text": [
      "rocks    : rock\n",
      "corpora  : corpus\n",
      "-----better-----\n",
      "Noun :  better\n",
      "Adj  :  good\n"
     ]
    }
   ],
   "execution_count": 2
  },
  {
   "cell_type": "code",
   "metadata": {
    "_cell_guid": "b1076dfc-b9ad-4769-8c92-a6c4dae69d19",
    "_uuid": "8f2839f25d086af736a60e9eeb907d3b93b6e0e5",
    "ExecuteTime": {
     "end_time": "2025-02-23T00:30:57.473983Z",
     "start_time": "2025-02-23T00:30:57.467846Z"
    }
   },
   "source": [
    "import os\n",
    "\n",
    "for dirname, _, filenames in os.walk('./All Hadith Books'):\n",
    "    for filename in filenames:\n",
    "        print(os.path.join(dirname, filename))"
   ],
   "outputs": [
    {
     "name": "stdout",
     "output_type": "stream",
     "text": [
      "./All Hadith Books\\Maliks Muwatta Without_Tashkel.csv\n",
      "./All Hadith Books\\Maliks Muwatta.csv\n",
      "./All Hadith Books\\Musnad Ahmad ibn Hanbal Without_Tashkel.csv\n",
      "./All Hadith Books\\Musnad Ahmad ibn Hanbal.csv\n",
      "./All Hadith Books\\Sahih Bukhari Without_Tashkel.csv\n",
      "./All Hadith Books\\Sahih Bukhari.csv\n",
      "./All Hadith Books\\Sahih Muslim.csv\n",
      "./All Hadith Books\\Sahih Muslime Without_Tashkel.csv\n",
      "./All Hadith Books\\Sunan Abu Dawud Without_Tashkel.csv\n",
      "./All Hadith Books\\Sunan Abu Dawud.csv\n",
      "./All Hadith Books\\Sunan al Darami Without_Tashkel.csv\n",
      "./All Hadith Books\\Sunan al Darami.csv\n",
      "./All Hadith Books\\Sunan al Tirmidhi Without_Tashkel.csv\n",
      "./All Hadith Books\\Sunan al Tirmidhi.csv\n",
      "./All Hadith Books\\Sunan al-Nasai Without_Tashkel.csv\n",
      "./All Hadith Books\\Sunan al-Nasai.csv\n",
      "./All Hadith Books\\Sunan Ibn Maja Without_Tashkel.csv\n",
      "./All Hadith Books\\Sunan Ibn Maja.csv\n"
     ]
    }
   ],
   "execution_count": 3
  },
  {
   "cell_type": "code",
   "metadata": {
    "ExecuteTime": {
     "end_time": "2025-02-23T00:30:57.496405Z",
     "start_time": "2025-02-23T00:30:57.490443Z"
    }
   },
   "source": [
    "\n",
    "import re\n",
    "\n",
    "\n",
    "def normalize(sentence):\n",
    "    '''\n",
    "    Argument:\n",
    "        string of words\n",
    "    return:\n",
    "        string of words but standardize the words\n",
    "    '''\n",
    "    sentence = re.sub(\"[إأآا]\", \"ا\", sentence)\n",
    "    sentence = re.sub(\"ى\", \"ي\", sentence)\n",
    "    sentence = re.sub(\"ؤ\", \"ء\", sentence)\n",
    "    sentence = re.sub(\"ئ\", \"ء\", sentence)\n",
    "    sentence = re.sub(\"ة\", \"ه\", sentence)\n",
    "    sentence = re.sub(\"گ\", \"ك\", sentence)\n",
    "    return sentence\n"
   ],
   "outputs": [],
   "execution_count": 4
  },
  {
   "cell_type": "code",
   "metadata": {
    "ExecuteTime": {
     "end_time": "2025-02-23T00:30:57.546199Z",
     "start_time": "2025-02-23T00:30:57.539260Z"
    }
   },
   "source": [
    "from nltk.corpus import stopwords\n",
    "\n",
    "stopwords = stopwords.words('arabic')"
   ],
   "outputs": [],
   "execution_count": 5
  },
  {
   "cell_type": "code",
   "metadata": {
    "ExecuteTime": {
     "end_time": "2025-02-23T00:30:57.575831Z",
     "start_time": "2025-02-23T00:30:57.569367Z"
    }
   },
   "source": [
    "from nltk import word_tokenize\n",
    "\n",
    "\n",
    "def removing_ar_stopwords(text):\n",
    "    \"\"\"\n",
    "        Here we remove all Arabic stop words\n",
    "        \n",
    "    \"\"\"\n",
    "    original_words = []\n",
    "    words = word_tokenize(text)  # it works on one hadith not list\n",
    "    for word in words:\n",
    "        if word not in stopwords:\n",
    "            original_words.append(word)\n",
    "    filtered_sentence = \" \".join(original_words)\n",
    "    return filtered_sentence\n"
   ],
   "outputs": [],
   "execution_count": 6
  },
  {
   "cell_type": "code",
   "metadata": {
    "_cell_guid": "79c7e3d0-c299-4dcb-8224-4455121ee9b0",
    "_uuid": "d629ff2d2480ee46fbb7e2d37f6b5fab8052498a",
    "ExecuteTime": {
     "end_time": "2025-02-23T00:30:57.592105Z",
     "start_time": "2025-02-23T00:30:57.585184Z"
    }
   },
   "source": [
    "\n",
    "from nltk import ISRIStemmer\n",
    "\n",
    "\n",
    "def stemming_1(text):\n",
    "    \"\"\"\n",
    "        This is first functoin for stemming and it's looks not good accurac, NLTK by ISRIStemmer.\n",
    "    \"\"\"\n",
    "    st = ISRIStemmer()\n",
    "    stemmend_words = []\n",
    "    words = word_tokenize(text)\n",
    "    for word in words:\n",
    "        stemmend_words.append(st.stem(word))\n",
    "    stemmed_sentence = \" \".join(stemmend_words)\n",
    "    return stemmed_sentence\n",
    "\n",
    "\n",
    "def stemming_2(text):\n",
    "    \"\"\"\n",
    "        This is Second functoin for stemming and it's looks good results, with built in library called Tashaphyne.\n",
    "        The documentation here ==> https://pypi.org/project/Tashaphyne/\n",
    "    \n",
    "    \"\"\"\n",
    "    from tashaphyne.stemming import ArabicLightStemmer\n",
    "    ArListem = ArabicLightStemmer()\n",
    "    words = word_tokenize(text)\n",
    "    new_list = []\n",
    "    for word in words:\n",
    "        stem = ArListem.light_stem(word)\n",
    "        stem = ArListem.get_stem()\n",
    "        new_list.append(stem)\n",
    "\n",
    "        hadith_sentence_with_stemming = \" \".join(new_list)\n",
    "\n",
    "    return hadith_sentence_with_stemming\n"
   ],
   "outputs": [],
   "execution_count": 7
  },
  {
   "cell_type": "markdown",
   "metadata": {},
   "source": [
    "* **`Stemming`** : algorithms work by cutting off the end or the beginning of the word, taking into account a list of common prefixes and suffixes that can be found in an inflected word.\n",
    "* **`Lemmatization`** : takes into consideration the morphological analysis of the words. \n",
    "\n",
    "**Lemmatization is typically seen as much more informative than simple stemming, because stem may not be an actual word whereas lemma is an actual language word.**"
   ]
  },
  {
   "cell_type": "markdown",
   "metadata": {},
   "source": [
    "#### Upove some functions for like:\n",
    "* stemming_1 by `ISRIStemmer from NLTK`.\n",
    "* stemming_2 by `Tashaphyne` is an Arabic light stemmer(removing prefixes and suffixes) and give all possible segmentations. \n",
    "* lemmatization by [Farasa API](https://alt.qcri.org/farasa/)\n",
    "\n",
    "**By the experimental: lemmatization by Farasa have a good results.**"
   ]
  },
  {
   "cell_type": "code",
   "metadata": {
    "ExecuteTime": {
     "end_time": "2025-02-23T00:30:57.650653Z",
     "start_time": "2025-02-23T00:30:57.614217Z"
    }
   },
   "source": [
    "\n",
    "import pandas as pd\n",
    "\n",
    "data_1 = pd.read_csv(dirname + '/Maliks Muwatta Without_Tashkel.csv')\n",
    "data_1.head()"
   ],
   "outputs": [
    {
     "data": {
      "text/plain": [
       "                      Maliks Muwatta Without_Tashkel\n",
       "0  قال حدثني الليثي عن مالك بن أنس عن ابن شهاب أن...\n",
       "1  و حدثني يحيى عن مالك عن زيد بن أسلم عن عطاء بن...\n",
       "2  و حدثني يحيى عن مالك عن يحيى بن سعيد عن عمرة ب...\n",
       "3  و حدثني عن مالك عن زيد بن أسلم عن عطاء بن يسار...\n",
       "4  و حدثني عن مالك عن نافع مولى عبد الله بن عمر أ..."
      ],
      "text/html": [
       "<div>\n",
       "<style scoped>\n",
       "    .dataframe tbody tr th:only-of-type {\n",
       "        vertical-align: middle;\n",
       "    }\n",
       "\n",
       "    .dataframe tbody tr th {\n",
       "        vertical-align: top;\n",
       "    }\n",
       "\n",
       "    .dataframe thead th {\n",
       "        text-align: right;\n",
       "    }\n",
       "</style>\n",
       "<table border=\"1\" class=\"dataframe\">\n",
       "  <thead>\n",
       "    <tr style=\"text-align: right;\">\n",
       "      <th></th>\n",
       "      <th>Maliks Muwatta Without_Tashkel</th>\n",
       "    </tr>\n",
       "  </thead>\n",
       "  <tbody>\n",
       "    <tr>\n",
       "      <th>0</th>\n",
       "      <td>قال حدثني الليثي عن مالك بن أنس عن ابن شهاب أن...</td>\n",
       "    </tr>\n",
       "    <tr>\n",
       "      <th>1</th>\n",
       "      <td>و حدثني يحيى عن مالك عن زيد بن أسلم عن عطاء بن...</td>\n",
       "    </tr>\n",
       "    <tr>\n",
       "      <th>2</th>\n",
       "      <td>و حدثني يحيى عن مالك عن يحيى بن سعيد عن عمرة ب...</td>\n",
       "    </tr>\n",
       "    <tr>\n",
       "      <th>3</th>\n",
       "      <td>و حدثني عن مالك عن زيد بن أسلم عن عطاء بن يسار...</td>\n",
       "    </tr>\n",
       "    <tr>\n",
       "      <th>4</th>\n",
       "      <td>و حدثني عن مالك عن نافع مولى عبد الله بن عمر أ...</td>\n",
       "    </tr>\n",
       "  </tbody>\n",
       "</table>\n",
       "</div>"
      ]
     },
     "execution_count": 8,
     "metadata": {},
     "output_type": "execute_result"
    }
   ],
   "execution_count": 8
  },
  {
   "cell_type": "code",
   "metadata": {
    "ExecuteTime": {
     "end_time": "2025-02-23T00:30:57.712406Z",
     "start_time": "2025-02-23T00:30:57.705965Z"
    }
   },
   "source": [
    "all_hadiths_1 = []\n",
    "\n",
    "for hadith in data_1['Maliks Muwatta Without_Tashkel']:\n",
    "    all_hadiths_1.append(hadith)\n"
   ],
   "outputs": [],
   "execution_count": 9
  },
  {
   "cell_type": "code",
   "metadata": {
    "ExecuteTime": {
     "end_time": "2025-02-23T00:30:57.779155Z",
     "start_time": "2025-02-23T00:30:57.771784Z"
    }
   },
   "source": [
    "all_hadiths_1[0:1]"
   ],
   "outputs": [
    {
     "data": {
      "text/plain": [
       "['قال حدثني الليثي عن مالك بن أنس عن ابن شهاب أن عمر بن عبد العزيز أخر الصلاة يوما فدخل عليه عروة بن الزبير فأخبره أن المغيرة بن شعبة أخر الصلاة يوما وهو بالكوفة فدخل عليه أبو مسعود الأنصاري فقال ما هذا يا مغيرة أليس قد علمت أن جبريل نزل فصلى فصلى رسول الله صلى الله عليه وسلم ثم صلى فصلى رسول الله صلى الله عليه وسلم ثم صلى فصلى رسول الله صلى الله عليه وسلم ثم صلى فصلى رسول الله صلى الله عليه وسلم ثم صلى فصلى رسول الله صلى الله عليه وسلم ثم قال بهذا أمرت فقال عمر بن عبد العزيز اعلم ما تحدث به يا عروة أو إن جبريل هو الذي أقام لرسول الله صلى الله عليه وسلم وقت الصلاة قال عروة كذلك كان بشير بن أبي مسعود الأنصاري يحدث عن أبيه قال عروة ولقد حدثتني عائشة زوج النبي صلى الله عليه وسلم أن رسول الله صلى الله عليه وسلم كان يصلي العصر والشمس في حجرتها قبل أن تظهر.']"
      ]
     },
     "execution_count": 10,
     "metadata": {},
     "output_type": "execute_result"
    }
   ],
   "execution_count": 10
  },
  {
   "cell_type": "code",
   "metadata": {
    "ExecuteTime": {
     "end_time": "2025-02-23T00:30:59.135540Z",
     "start_time": "2025-02-23T00:30:57.854950Z"
    }
   },
   "source": [
    "##%%time\n",
    "\n",
    "# Maliks Muwatta\n",
    "cleared_Hadith_1 = []  # Removing stopwords\n",
    "\n",
    "for hadith in all_hadiths_1:\n",
    "    cleared_Hadith_1.append(removing_ar_stopwords(hadith))  # Removing stopwords\n",
    "\n",
    "len(cleared_Hadith_1)\n",
    "cleared_Hadith_1[0:1]"
   ],
   "outputs": [
    {
     "data": {
      "text/plain": [
       "['قال حدثني الليثي مالك بن أنس ابن شهاب عمر بن عبد العزيز أخر الصلاة يوما فدخل عروة بن الزبير فأخبره المغيرة بن شعبة أخر الصلاة يوما بالكوفة فدخل مسعود الأنصاري فقال مغيرة أليس علمت جبريل نزل فصلى فصلى رسول الله صلى الله وسلم صلى فصلى رسول الله صلى الله وسلم صلى فصلى رسول الله صلى الله وسلم صلى فصلى رسول الله صلى الله وسلم صلى فصلى رسول الله صلى الله وسلم قال بهذا أمرت فقال عمر بن عبد العزيز اعلم تحدث عروة جبريل أقام لرسول الله صلى الله وسلم وقت الصلاة قال عروة بشير بن أبي مسعود الأنصاري يحدث أبيه قال عروة ولقد حدثتني عائشة زوج النبي صلى الله وسلم رسول الله صلى الله وسلم يصلي العصر والشمس حجرتها تظهر .']"
      ]
     },
     "execution_count": 11,
     "metadata": {},
     "output_type": "execute_result"
    }
   ],
   "execution_count": 11
  },
  {
   "cell_type": "code",
   "metadata": {
    "ExecuteTime": {
     "end_time": "2025-02-23T00:30:59.384662Z",
     "start_time": "2025-02-23T00:30:59.345001Z"
    }
   },
   "source": [
    "cleared_Hadith_1_2 = []  # Normalization\n",
    "\n",
    "for hadith in cleared_Hadith_1:\n",
    "    cleared_Hadith_1_2.append(normalize(hadith))  # Normalization\n",
    "\n",
    "len(cleared_Hadith_1_2)\n",
    "cleared_Hadith_1_2[0:1]"
   ],
   "outputs": [
    {
     "data": {
      "text/plain": [
       "['قال حدثني الليثي مالك بن انس ابن شهاب عمر بن عبد العزيز اخر الصلاه يوما فدخل عروه بن الزبير فاخبره المغيره بن شعبه اخر الصلاه يوما بالكوفه فدخل مسعود الانصاري فقال مغيره اليس علمت جبريل نزل فصلي فصلي رسول الله صلي الله وسلم صلي فصلي رسول الله صلي الله وسلم صلي فصلي رسول الله صلي الله وسلم صلي فصلي رسول الله صلي الله وسلم صلي فصلي رسول الله صلي الله وسلم قال بهذا امرت فقال عمر بن عبد العزيز اعلم تحدث عروه جبريل اقام لرسول الله صلي الله وسلم وقت الصلاه قال عروه بشير بن ابي مسعود الانصاري يحدث ابيه قال عروه ولقد حدثتني عاءشه زوج النبي صلي الله وسلم رسول الله صلي الله وسلم يصلي العصر والشمس حجرتها تظهر .']"
      ]
     },
     "execution_count": 12,
     "metadata": {},
     "output_type": "execute_result"
    }
   ],
   "execution_count": 12
  },
  {
   "cell_type": "code",
   "metadata": {
    "ExecuteTime": {
     "end_time": "2025-02-23T00:31:00.036277Z",
     "start_time": "2025-02-23T00:30:59.424186Z"
    }
   },
   "source": [
    "cleared_Hadith_1_2_3 = []\n",
    "\n",
    "for hadith in cleared_Hadith_1_2:\n",
    "    cleared_Hadith_1_2_3.append(stemming_1(hadith))  #ISRIStemmer\n",
    "\n",
    "print('The size of data:')\n",
    "len(cleared_Hadith_1_2_3)\n",
    "cleared_Hadith_1_2_3[0:1]"
   ],
   "outputs": [
    {
     "name": "stdout",
     "output_type": "stream",
     "text": [
      "The size of data:\n"
     ]
    },
    {
     "data": {
      "text/plain": [
       "['قال حدث ليث الك بن انس ابن شهب عمر بن عبد عزز اخر صله يوم دخل عره بن زبر خبر غير بن شعب اخر صله يوم كوف دخل سعد صار فقل غير الس علم جبريل نزل فصل فصل رسل الل صلي الل سلم صلي فصل رسل الل صلي الل سلم صلي فصل رسل الل صلي الل سلم صلي فصل رسل الل صلي الل سلم صلي فصل رسل الل صلي الل سلم قال بهذا امر فقل عمر بن عبد عزز علم حدث عره جبريل اقم رسل الل صلي الل سلم وقت صله قال عره بشر بن ابي سعد صار حدث ابه قال عره لقد حدث عءش زوج نبي صلي الل سلم رسل الل صلي الل سلم يصل عصر شمس حجر ظهر .']"
      ]
     },
     "execution_count": 13,
     "metadata": {},
     "output_type": "execute_result"
    }
   ],
   "execution_count": 13
  },
  {
   "cell_type": "code",
   "metadata": {
    "ExecuteTime": {
     "end_time": "2025-02-23T00:31:06.681322Z",
     "start_time": "2025-02-23T00:31:00.088012Z"
    }
   },
   "source": [
    "cleared_Hadith_1_2_3_4 = []\n",
    "\n",
    "for hadith in cleared_Hadith_1_2:\n",
    "    cleared_Hadith_1_2_3_4.append(stemming_2(hadith))  #ArabicLightStemmer\n",
    "\n",
    "print('The size of data:')\n",
    "len(cleared_Hadith_1_2_3_4)\n",
    "cleared_Hadith_1_2_3_4[0:1]"
   ],
   "outputs": [
    {
     "name": "stdout",
     "output_type": "stream",
     "text": [
      "The size of data:\n"
     ]
    },
    {
     "data": {
      "text/plain": [
       "['قال حدث ليث مال بن نس بن شهاب عمر بن عبد عزيز خر صلاه وم دخل عر بن زبير خبر مغيره بن شعب خر صلاه وم كوفه دخل مسعود انصار قال مغير يس علم جبريل زل صل صل رسول له صل له سلم صل صل رسول له صل له سلم صل صل رسول له صل له سلم صل صل رسول له صل له سلم صل صل رسول له صل له سلم قال هذا مرت قال عمر بن عبد عزيز علم حدث عر جبريل قام رسول له صل له سلم قت صلاه قال عر شير بن بي مسعود انصار حدث بي قال عر قد حدث عاءش زوج نب صل له سلم رسول له صل له سلم صلي عصر شمس حجر ظهر .']"
      ]
     },
     "execution_count": 14,
     "metadata": {},
     "output_type": "execute_result"
    }
   ],
   "execution_count": 14
  },
  {
   "cell_type": "code",
   "metadata": {
    "ExecuteTime": {
     "end_time": "2025-02-23T00:31:06.873638Z",
     "start_time": "2025-02-23T00:31:06.863664Z"
    }
   },
   "source": [
    "# make it as a DataFram \n",
    "Maliks_Muwatta_preprosessing_1 = pd.DataFrame(cleared_Hadith_1_2_3, columns=['Maliks_Muwatta_Preprosessing_Cleaned'])\n",
    "Maliks_Muwatta_preprosessing_1.head()"
   ],
   "outputs": [
    {
     "data": {
      "text/plain": [
       "                Maliks_Muwatta_Preprosessing_Cleaned\n",
       "0  قال حدث ليث الك بن انس ابن شهب عمر بن عبد عزز ...\n",
       "1  حدث يحي الك زيد بن سلم عطء بن يسر انه قال جاء ...\n",
       "2  حدث يحي الك يحي بن سعد عمر بنت عبد رحم عءش زوج...\n",
       "3  حدث الك زيد بن سلم عطء بن يسر وعن بسر بن سعد و...\n",
       "4  حدث الك نفع ولي عبد الل بن عمر عمر بن خطب كتب ..."
      ],
      "text/html": [
       "<div>\n",
       "<style scoped>\n",
       "    .dataframe tbody tr th:only-of-type {\n",
       "        vertical-align: middle;\n",
       "    }\n",
       "\n",
       "    .dataframe tbody tr th {\n",
       "        vertical-align: top;\n",
       "    }\n",
       "\n",
       "    .dataframe thead th {\n",
       "        text-align: right;\n",
       "    }\n",
       "</style>\n",
       "<table border=\"1\" class=\"dataframe\">\n",
       "  <thead>\n",
       "    <tr style=\"text-align: right;\">\n",
       "      <th></th>\n",
       "      <th>Maliks_Muwatta_Preprosessing_Cleaned</th>\n",
       "    </tr>\n",
       "  </thead>\n",
       "  <tbody>\n",
       "    <tr>\n",
       "      <th>0</th>\n",
       "      <td>قال حدث ليث الك بن انس ابن شهب عمر بن عبد عزز ...</td>\n",
       "    </tr>\n",
       "    <tr>\n",
       "      <th>1</th>\n",
       "      <td>حدث يحي الك زيد بن سلم عطء بن يسر انه قال جاء ...</td>\n",
       "    </tr>\n",
       "    <tr>\n",
       "      <th>2</th>\n",
       "      <td>حدث يحي الك يحي بن سعد عمر بنت عبد رحم عءش زوج...</td>\n",
       "    </tr>\n",
       "    <tr>\n",
       "      <th>3</th>\n",
       "      <td>حدث الك زيد بن سلم عطء بن يسر وعن بسر بن سعد و...</td>\n",
       "    </tr>\n",
       "    <tr>\n",
       "      <th>4</th>\n",
       "      <td>حدث الك نفع ولي عبد الل بن عمر عمر بن خطب كتب ...</td>\n",
       "    </tr>\n",
       "  </tbody>\n",
       "</table>\n",
       "</div>"
      ]
     },
     "execution_count": 15,
     "metadata": {},
     "output_type": "execute_result"
    }
   ],
   "execution_count": 15
  },
  {
   "cell_type": "code",
   "metadata": {
    "ExecuteTime": {
     "end_time": "2025-02-23T00:31:06.965673Z",
     "start_time": "2025-02-23T00:31:06.962373Z"
    }
   },
   "source": [],
   "outputs": [],
   "execution_count": null
  }
 ],
 "metadata": {
  "kernelspec": {
   "display_name": "Python 3",
   "language": "python",
   "name": "python3"
  },
  "language_info": {
   "codemirror_mode": {
    "name": "ipython",
    "version": 3
   },
   "file_extension": ".py",
   "mimetype": "text/x-python",
   "name": "python",
   "nbconvert_exporter": "python",
   "pygments_lexer": "ipython3",
   "version": "3.8.3"
  }
 },
 "nbformat": 4,
 "nbformat_minor": 4
}
